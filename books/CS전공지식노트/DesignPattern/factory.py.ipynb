{
 "cells": [
  {
   "cell_type": "code",
   "execution_count": 3,
   "id": "69eadeaa",
   "metadata": {},
   "outputs": [],
   "source": [
    "# 팩토리 패턴\n",
    "\n",
    "from abc import ABCMeta, abstractclassmethod\n",
    "\n",
    "\n",
    "class Animal(metaclass=ABCMeta):\n",
    "    @abstractclassmethod\n",
    "    def name(self):\n",
    "        pass\n",
    "    \n",
    "\n",
    "class Dog(Animal):\n",
    "    def name(self):\n",
    "        print(\"강아지\")\n",
    "        \n",
    "\n",
    "class Cat(Animal):\n",
    "    def name(self):\n",
    "        print(\"고양이\")\n",
    "        \n",
    "\n",
    "d = Dog()\n",
    "c = Cat()\n",
    "\n"
   ]
  },
  {
   "cell_type": "code",
   "execution_count": null,
   "id": "614c156c",
   "metadata": {},
   "outputs": [],
   "source": []
  }
 ],
 "metadata": {
  "kernelspec": {
   "display_name": "Python 3 (ipykernel)",
   "language": "python",
   "name": "python3"
  },
  "language_info": {
   "codemirror_mode": {
    "name": "ipython",
    "version": 3
   },
   "file_extension": ".py",
   "mimetype": "text/x-python",
   "name": "python",
   "nbconvert_exporter": "python",
   "pygments_lexer": "ipython3",
   "version": "3.10.10"
  }
 },
 "nbformat": 4,
 "nbformat_minor": 5
}

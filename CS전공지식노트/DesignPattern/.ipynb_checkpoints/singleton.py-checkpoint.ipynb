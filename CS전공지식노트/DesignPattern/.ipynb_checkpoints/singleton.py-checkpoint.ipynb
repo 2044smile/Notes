{
 "cells": [
  {
   "cell_type": "code",
   "execution_count": 8,
   "id": "5f8e5465",
   "metadata": {},
   "outputs": [],
   "source": [
    "# 싱글톤 어디서 선언하던지 인스턴스의 주소를 확인해보면 항상 같은 번지를 가리킨다.\n",
    "# 즉, 언제 어디서 클래스를 선언하여 인스턴스를 생성하든지 상관 없이 하나의 인스턴스만 갖는다.\n",
    "# 보통 데이터베이스 연결에 많이 사용한다.\n",
    "# 장점, 메모리를 적게 사용하고, Static 하게 선언되어 있으므로 접근하기 용이하다.\n",
    "# 단점, OOP 개념과는 조금 멀어질 수 있다.\n",
    "\n",
    "class Singleton(object):\n",
    "    def __new__(cls, *args, **kwargs):\n",
    "        if not hasattr(cls, \"_instance\"):\n",
    "            cls._instance = super().__new__(cls)\n",
    "            return cls._instance\n",
    "        return cls._instance\n",
    "\n",
    "\n",
    "class DBConnector(object):\n",
    "    def __new__(cls):\n",
    "        if not hasattr(cls, 'instance'):\n",
    "            cls.instance = super(DBConnector, cls).__new__(cls)\n",
    "        return cls.instance\n",
    "\n",
    "    def __init__(self):\n",
    "        #your db connection code in constructor\n",
    "        #mysql.connect(etc)\n",
    "        pass"
   ]
  },
  {
   "cell_type": "code",
   "execution_count": 9,
   "id": "6fd82274",
   "metadata": {},
   "outputs": [
    {
     "name": "stdout",
     "output_type": "stream",
     "text": [
      "<__main__.Singleton object at 0x1049167a0>\n",
      "<__main__.Singleton object at 0x1049167a0>\n"
     ]
    },
    {
     "data": {
      "text/plain": [
       "True"
      ]
     },
     "execution_count": 9,
     "metadata": {},
     "output_type": "execute_result"
    }
   ],
   "source": [
    "s1 = Singleton()\n",
    "print(s1)\n",
    "s2 = Singleton()\n",
    "print(s2)\n",
    "\n",
    "con1 = DBConnector()\n",
    "con2 = DBConnector()\n",
    "con1 is con2 # output is True"
   ]
  },
  {
   "cell_type": "code",
   "execution_count": null,
   "id": "c61f7123",
   "metadata": {},
   "outputs": [],
   "source": []
  }
 ],
 "metadata": {
  "kernelspec": {
   "display_name": "Python 3 (ipykernel)",
   "language": "python",
   "name": "python3"
  },
  "language_info": {
   "codemirror_mode": {
    "name": "ipython",
    "version": 3
   },
   "file_extension": ".py",
   "mimetype": "text/x-python",
   "name": "python",
   "nbconvert_exporter": "python",
   "pygments_lexer": "ipython3",
   "version": "3.10.10"
  }
 },
 "nbformat": 4,
 "nbformat_minor": 5
}
